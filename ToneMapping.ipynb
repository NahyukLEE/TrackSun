{
 "cells": [
  {
   "cell_type": "code",
   "execution_count": 111,
   "id": "3f34d5e6",
   "metadata": {},
   "outputs": [],
   "source": [
    "import cv2\n",
    "import numpy as np\n",
    "import matplotlib.pyplot as plt\n"
   ]
  },
  {
   "cell_type": "code",
   "execution_count": 118,
   "id": "945a22f3",
   "metadata": {},
   "outputs": [
    {
     "data": {
      "text/plain": [
       "True"
      ]
     },
     "execution_count": 118,
     "metadata": {},
     "output_type": "execute_result"
    }
   ],
   "source": [
    "filename = \"9C4A0001 Panorama_hdr.exr\"\n",
    "im = cv2.imread(filename, cv2.IMREAD_ANYCOLOR | cv2.IMREAD_ANYDEPTH)\n",
    "\n",
    "tonemap = cv2.createTonemapDrago(gamma=2.2)\n",
    "ldrDurand = tonemap.process(im)\n",
    "im2_8bit = np.clip(ldrDurand * 255, 0, 255).astype('uint8')\n",
    "\n",
    "#cv2.imshow('result', im2_8bit)\n",
    "#cv2.waitKey(0)\n",
    "#cv2.destroyAllWindows()\n",
    "new_filename = filename + \".jpg\"\n",
    "cv2.imwrite(new_filename, im2_8bit)"
   ]
  },
  {
   "cell_type": "code",
   "execution_count": null,
   "id": "6e78d9fa",
   "metadata": {},
   "outputs": [],
   "source": []
  }
 ],
 "metadata": {
  "kernelspec": {
   "display_name": "Python 3 (ipykernel)",
   "language": "python",
   "name": "python3"
  },
  "language_info": {
   "codemirror_mode": {
    "name": "ipython",
    "version": 3
   },
   "file_extension": ".py",
   "mimetype": "text/x-python",
   "name": "python",
   "nbconvert_exporter": "python",
   "pygments_lexer": "ipython3",
   "version": "3.8.12"
  }
 },
 "nbformat": 4,
 "nbformat_minor": 5
}
